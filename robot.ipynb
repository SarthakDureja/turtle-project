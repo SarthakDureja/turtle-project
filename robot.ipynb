{
 "cells": [
  {
   "cell_type": "code",
   "execution_count": 8,
   "metadata": {},
   "outputs": [],
   "source": [
    "import turtle as k\n",
    "def drawing(horizontal,vertical,color):\n",
    "    k.down()\n",
    "    k.pensize(2)\n",
    "    k.color(color)\n",
    "    k.begin_fill()\n",
    "    for i in range(1,3):\n",
    "        k.forward(horizontal)\n",
    "        k.right(90)\n",
    "        k.forward(vertical)\n",
    "        k.right(90)\n",
    "    k.end_fill()\n",
    "    k.up()\n",
    "    k.speed('slow') \n",
    "def eyes(radius, color):\n",
    "    k.down()\n",
    "    k.pensize(3)\n",
    "    k.color(color)\n",
    "    k.begin_fill()\n",
    "    k.circle(radius)\n",
    "    k.end_fill()\n",
    "    k.up()\n",
    "    k.speed('slow')\n",
    "   \n"
   ]
  },
  {
   "cell_type": "code",
   "execution_count": 21,
   "metadata": {},
   "outputs": [
    {
     "ename": "AttributeError",
     "evalue": "module 'turtle' has no attribute 'hide'",
     "output_type": "error",
     "traceback": [
      "\u001b[1;31m---------------------------------------------------------------------------\u001b[0m",
      "\u001b[1;31mAttributeError\u001b[0m                            Traceback (most recent call last)",
      "\u001b[1;32m<ipython-input-21-7257b5320879>\u001b[0m in \u001b[0;36m<module>\u001b[1;34m\u001b[0m\n\u001b[0;32m     40\u001b[0m \u001b[0mk\u001b[0m\u001b[1;33m.\u001b[0m\u001b[0mgoto\u001b[0m\u001b[1;33m(\u001b[0m\u001b[1;33m-\u001b[0m\u001b[1;36m23\u001b[0m\u001b[1;33m,\u001b[0m\u001b[1;36m105\u001b[0m\u001b[1;33m)\u001b[0m\u001b[1;33m\u001b[0m\u001b[1;33m\u001b[0m\u001b[0m\n\u001b[0;32m     41\u001b[0m \u001b[0mdrawing\u001b[0m\u001b[1;33m(\u001b[0m\u001b[1;36m41\u001b[0m\u001b[1;33m,\u001b[0m\u001b[1;36m15\u001b[0m\u001b[1;33m,\u001b[0m\u001b[1;34m'blue'\u001b[0m\u001b[1;33m)\u001b[0m\u001b[1;33m\u001b[0m\u001b[1;33m\u001b[0m\u001b[0m\n\u001b[1;32m---> 42\u001b[1;33m \u001b[0mk\u001b[0m\u001b[1;33m.\u001b[0m\u001b[0mhide\u001b[0m\u001b[1;33m(\u001b[0m\u001b[1;33m)\u001b[0m\u001b[1;33m\u001b[0m\u001b[1;33m\u001b[0m\u001b[0m\n\u001b[0m\u001b[0;32m     43\u001b[0m \u001b[0mk\u001b[0m\u001b[1;33m.\u001b[0m\u001b[0mdone\u001b[0m\u001b[1;33m(\u001b[0m\u001b[1;33m)\u001b[0m\u001b[1;33m\u001b[0m\u001b[1;33m\u001b[0m\u001b[0m\n",
      "\u001b[1;31mAttributeError\u001b[0m: module 'turtle' has no attribute 'hide'"
     ]
    }
   ],
   "source": [
    "k.goto(-100,-300)\n",
    "drawing(50,25,'red')\n",
    "k.goto(30,-300)\n",
    "drawing(50,25,'red')\n",
    "#legs\n",
    "k.goto(-65,-150)\n",
    "drawing(10,150,'grey')\n",
    "k.goto(35,-150)\n",
    "drawing(10,150,'grey')\n",
    "#body\n",
    "k.goto(-75,50)\n",
    "drawing(130,200,'black')\n",
    "#Rarm\n",
    "k.goto(55,20)\n",
    "drawing(65,10,'grey')\n",
    "k.goto(120,70)\n",
    "drawing(10,60,'grey')\n",
    "k.goto(118,90)\n",
    "drawing(14,20,'red')\n",
    "#Larm\n",
    "k.goto(-140,20)\n",
    "drawing(65,10,'grey')\n",
    "k.goto(-150,70)\n",
    "drawing(10,60,'grey')\n",
    "k.goto(-152,90)\n",
    "drawing(14,20,'red')\n",
    "#neck\n",
    "k.goto(-10,80)\n",
    "drawing(15,30,'red')\n",
    "#face\n",
    "k.goto(-40,150)\n",
    "drawing(75,70,'grey')\n",
    "#Leyes\n",
    "k.goto(-21,130)\n",
    "eyes(8,'blue')\n",
    "#Reyes\n",
    "k.goto(16,130)\n",
    "eyes(15,'blue')\n",
    "#mouth\n",
    "k.goto(-23,105)\n",
    "drawing(41,15,'blue')\n",
    "k.done()"
   ]
  },
  {
   "cell_type": "code",
   "execution_count": null,
   "metadata": {},
   "outputs": [],
   "source": []
  },
  {
   "cell_type": "code",
   "execution_count": null,
   "metadata": {},
   "outputs": [],
   "source": []
  }
 ],
 "metadata": {
  "kernelspec": {
   "display_name": "Python 3",
   "language": "python",
   "name": "python3"
  },
  "language_info": {
   "codemirror_mode": {
    "name": "ipython",
    "version": 3
   },
   "file_extension": ".py",
   "mimetype": "text/x-python",
   "name": "python",
   "nbconvert_exporter": "python",
   "pygments_lexer": "ipython3",
   "version": "3.8.3"
  }
 },
 "nbformat": 4,
 "nbformat_minor": 4
}
